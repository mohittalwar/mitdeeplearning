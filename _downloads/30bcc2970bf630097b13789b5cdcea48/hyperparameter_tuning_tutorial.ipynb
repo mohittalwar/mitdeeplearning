{
  "cells": [
    {
      "cell_type": "markdown",
      "metadata": {
        "id": "view-in-github",
        "colab_type": "text"
      },
      "source": [
        "<a href=\"https://colab.research.google.com/github/mohittalwar/mitdeeplearning/blob/main/_downloads/30bcc2970bf630097b13789b5cdcea48/hyperparameter_tuning_tutorial.ipynb\" target=\"_parent\"><img src=\"https://colab.research.google.com/assets/colab-badge.svg\" alt=\"Open In Colab\"/></a>"
      ]
    },
    {
      "cell_type": "code",
      "execution_count": 1,
      "metadata": {
        "id": "k7w77NELUJsb"
      },
      "outputs": [],
      "source": [
        "# For tips on running notebooks in Google Colab, see\n",
        "# https://pytorch.org/tutorials/beginner/colab\n",
        "%matplotlib inline"
      ]
    },
    {
      "cell_type": "markdown",
      "metadata": {
        "id": "Hae0vKq0UJsc"
      },
      "source": [
        "Hyperparameter tuning with Ray Tune\n",
        "===================================\n",
        "\n",
        "Hyperparameter tuning can make the difference between an average model\n",
        "and a highly accurate one. Often simple things like choosing a different\n",
        "learning rate or changing a network layer size can have a dramatic\n",
        "impact on your model performance.\n",
        "\n",
        "Fortunately, there are tools that help with finding the best combination\n",
        "of parameters. [Ray Tune](https://docs.ray.io/en/latest/tune.html) is an\n",
        "industry standard tool for distributed hyperparameter tuning. Ray Tune\n",
        "includes the latest hyperparameter search algorithms, integrates with\n",
        "various analysis libraries, and natively supports distributed training\n",
        "through [Ray\\'s distributed machine learning engine](https://ray.io/).\n",
        "\n",
        "In this tutorial, we will show you how to integrate Ray Tune into your\n",
        "PyTorch training workflow. We will extend [this tutorial from the\n",
        "PyTorch\n",
        "documentation](https://pytorch.org/tutorials/beginner/blitz/cifar10_tutorial.html)\n",
        "for training a CIFAR10 image classifier.\n",
        "\n",
        "As you will see, we only need to add some slight modifications. In\n",
        "particular, we need to\n",
        "\n",
        "1.  wrap data loading and training in functions,\n",
        "2.  make some network parameters configurable,\n",
        "3.  add checkpointing (optional),\n",
        "4.  and define the search space for the model tuning\n",
        "\n",
        "|\n",
        "\n",
        "To run this tutorial, please make sure the following packages are\n",
        "installed:\n",
        "\n",
        "-   `ray[tune]`: Distributed hyperparameter tuning library\n",
        "-   `torchvision`: For the data transformers\n",
        "\n",
        "Setup / Imports\n",
        "---------------\n",
        "\n",
        "Let\\'s start with the imports:\n"
      ]
    },
    {
      "cell_type": "code",
      "execution_count": 2,
      "metadata": {
        "id": "M2HpJTsIUJsd"
      },
      "outputs": [],
      "source": [
        "from functools import partial\n",
        "import os\n",
        "import tempfile\n",
        "from pathlib import Path\n",
        "import torch\n",
        "import torch.nn as nn\n",
        "import torch.nn.functional as F\n",
        "import torch.optim as optim\n",
        "from torch.utils.data import random_split\n",
        "import torchvision\n",
        "import torchvision.transforms as transforms\n",
        "from ray import tune\n",
        "from ray import train\n",
        "from ray.train import Checkpoint, get_checkpoint\n",
        "from ray.tune.schedulers import ASHAScheduler\n",
        "import ray.cloudpickle as pickle"
      ]
    },
    {
      "cell_type": "markdown",
      "metadata": {
        "id": "5jhymtxpUJsd"
      },
      "source": [
        "Most of the imports are needed for building the PyTorch model. Only the\n",
        "last imports are for Ray Tune.\n",
        "\n",
        "Data loaders\n",
        "============\n",
        "\n",
        "We wrap the data loaders in their own function and pass a global data\n",
        "directory. This way we can share a data directory between different\n",
        "trials.\n"
      ]
    },
    {
      "cell_type": "code",
      "execution_count": 3,
      "metadata": {
        "id": "MvOSh1SpUJsd"
      },
      "outputs": [],
      "source": [
        "def load_data(data_dir=\"./data\"):\n",
        "    transform = transforms.Compose(\n",
        "        [transforms.ToTensor(), transforms.Normalize((0.5, 0.5, 0.5), (0.5, 0.5, 0.5))]\n",
        "    )\n",
        "\n",
        "    trainset = torchvision.datasets.CIFAR10(\n",
        "        root=data_dir, train=True, download=True, transform=transform\n",
        "    )\n",
        "\n",
        "    testset = torchvision.datasets.CIFAR10(\n",
        "        root=data_dir, train=False, download=True, transform=transform\n",
        "    )\n",
        "\n",
        "    return trainset, testset"
      ]
    },
    {
      "cell_type": "markdown",
      "metadata": {
        "id": "dcx_nUvuUJsd"
      },
      "source": [
        "Configurable neural network\n",
        "===========================\n",
        "\n",
        "We can only tune those parameters that are configurable. In this\n",
        "example, we can specify the layer sizes of the fully connected layers:\n"
      ]
    },
    {
      "cell_type": "code",
      "execution_count": 4,
      "metadata": {
        "id": "uquNF3J4UJse"
      },
      "outputs": [],
      "source": [
        "class Net(nn.Module):\n",
        "    def __init__(self, l1=120, l2=84):\n",
        "        super(Net, self).__init__()\n",
        "        self.conv1 = nn.Conv2d(3, 6, 5)\n",
        "        self.pool = nn.MaxPool2d(2, 2)\n",
        "        self.conv2 = nn.Conv2d(6, 16, 5)\n",
        "        self.fc1 = nn.Linear(16 * 5 * 5, l1)\n",
        "        self.fc2 = nn.Linear(l1, l2)\n",
        "        self.fc3 = nn.Linear(l2, 10)\n",
        "\n",
        "    def forward(self, x):\n",
        "        x = self.pool(F.relu(self.conv1(x)))\n",
        "        x = self.pool(F.relu(self.conv2(x)))\n",
        "        x = torch.flatten(x, 1)  # flatten all dimensions except batch\n",
        "        x = F.relu(self.fc1(x))\n",
        "        x = F.relu(self.fc2(x))\n",
        "        x = self.fc3(x)\n",
        "        return x"
      ]
    },
    {
      "cell_type": "markdown",
      "metadata": {
        "id": "1Vlcp7hEUJse"
      },
      "source": [
        "The train function\n",
        "==================\n",
        "\n",
        "Now it gets interesting, because we introduce some changes to the\n",
        "example [from the PyTorch\n",
        "documentation](https://pytorch.org/tutorials/beginner/blitz/cifar10_tutorial.html).\n",
        "\n",
        "We wrap the training script in a function\n",
        "`train_cifar(config, data_dir=None)`. The `config` parameter will\n",
        "receive the hyperparameters we would like to train with. The `data_dir`\n",
        "specifies the directory where we load and store the data, so that\n",
        "multiple runs can share the same data source. We also load the model and\n",
        "optimizer state at the start of the run, if a checkpoint is provided.\n",
        "Further down in this tutorial you will find information on how to save\n",
        "the checkpoint and what it is used for.\n",
        "\n",
        "``` {.python}\n",
        "net = Net(config[\"l1\"], config[\"l2\"])\n",
        "\n",
        "checkpoint = get_checkpoint()\n",
        "if checkpoint:\n",
        "    with checkpoint.as_directory() as checkpoint_dir:\n",
        "        data_path = Path(checkpoint_dir) / \"data.pkl\"\n",
        "        with open(data_path, \"rb\") as fp:\n",
        "            checkpoint_state = pickle.load(fp)\n",
        "        start_epoch = checkpoint_state[\"epoch\"]\n",
        "        net.load_state_dict(checkpoint_state[\"net_state_dict\"])\n",
        "        optimizer.load_state_dict(checkpoint_state[\"optimizer_state_dict\"])\n",
        "else:\n",
        "    start_epoch = 0\n",
        "```\n",
        "\n",
        "The learning rate of the optimizer is made configurable, too:\n",
        "\n",
        "``` {.python}\n",
        "optimizer = optim.SGD(net.parameters(), lr=config[\"lr\"], momentum=0.9)\n",
        "```\n",
        "\n",
        "We also split the training data into a training and validation subset.\n",
        "We thus train on 80% of the data and calculate the validation loss on\n",
        "the remaining 20%. The batch sizes with which we iterate through the\n",
        "training and test sets are configurable as well.\n",
        "\n",
        "Adding (multi) GPU support with DataParallel\n",
        "--------------------------------------------\n",
        "\n",
        "Image classification benefits largely from GPUs. Luckily, we can\n",
        "continue to use PyTorch\\'s abstractions in Ray Tune. Thus, we can wrap\n",
        "our model in `nn.DataParallel` to support data parallel training on\n",
        "multiple GPUs:\n",
        "\n",
        "``` {.python}\n",
        "device = \"cpu\"\n",
        "if torch.cuda.is_available():\n",
        "    device = \"cuda:0\"\n",
        "    if torch.cuda.device_count() > 1:\n",
        "        net = nn.DataParallel(net)\n",
        "net.to(device)\n",
        "```\n",
        "\n",
        "By using a `device` variable we make sure that training also works when\n",
        "we have no GPUs available. PyTorch requires us to send our data to the\n",
        "GPU memory explicitly, like this:\n",
        "\n",
        "``` {.python}\n",
        "for i, data in enumerate(trainloader, 0):\n",
        "    inputs, labels = data\n",
        "    inputs, labels = inputs.to(device), labels.to(device)\n",
        "```\n",
        "\n",
        "The code now supports training on CPUs, on a single GPU, and on multiple\n",
        "GPUs. Notably, Ray also supports [fractional\n",
        "GPUs](https://docs.ray.io/en/master/using-ray-with-gpus.html#fractional-gpus)\n",
        "so we can share GPUs among trials, as long as the model still fits on\n",
        "the GPU memory. We\\'ll come back to that later.\n",
        "\n",
        "Communicating with Ray Tune\n",
        "---------------------------\n",
        "\n",
        "The most interesting part is the communication with Ray Tune:\n",
        "\n",
        "``` {.python}\n",
        "checkpoint_data = {\n",
        "    \"epoch\": epoch,\n",
        "    \"net_state_dict\": net.state_dict(),\n",
        "    \"optimizer_state_dict\": optimizer.state_dict(),\n",
        "}\n",
        "with tempfile.TemporaryDirectory() as checkpoint_dir:\n",
        "    data_path = Path(checkpoint_dir) / \"data.pkl\"\n",
        "    with open(data_path, \"wb\") as fp:\n",
        "        pickle.dump(checkpoint_data, fp)\n",
        "\n",
        "    checkpoint = Checkpoint.from_directory(checkpoint_dir)\n",
        "    train.report(\n",
        "        {\"loss\": val_loss / val_steps, \"accuracy\": correct / total},\n",
        "        checkpoint=checkpoint,\n",
        "    )\n",
        "```\n",
        "\n",
        "Here we first save a checkpoint and then report some metrics back to Ray\n",
        "Tune. Specifically, we send the validation loss and accuracy back to Ray\n",
        "Tune. Ray Tune can then use these metrics to decide which hyperparameter\n",
        "configuration lead to the best results. These metrics can also be used\n",
        "to stop bad performing trials early in order to avoid wasting resources\n",
        "on those trials.\n",
        "\n",
        "The checkpoint saving is optional, however, it is necessary if we wanted\n",
        "to use advanced schedulers like [Population Based\n",
        "Training](https://docs.ray.io/en/latest/tune/examples/pbt_guide.html).\n",
        "Also, by saving the checkpoint we can later load the trained models and\n",
        "validate them on a test set. Lastly, saving checkpoints is useful for\n",
        "fault tolerance, and it allows us to interrupt training and continue\n",
        "training later.\n",
        "\n",
        "Full training function\n",
        "----------------------\n",
        "\n",
        "The full code example looks like this:\n"
      ]
    },
    {
      "cell_type": "code",
      "execution_count": 5,
      "metadata": {
        "id": "ehkLz8VRUJse"
      },
      "outputs": [],
      "source": [
        "def train_cifar(config, data_dir=None):\n",
        "    net = Net(config[\"l1\"], config[\"l2\"])\n",
        "\n",
        "    device = \"cpu\"\n",
        "    if torch.cuda.is_available():\n",
        "        device = \"cuda:0\"\n",
        "        if torch.cuda.device_count() > 1:\n",
        "            net = nn.DataParallel(net)\n",
        "    net.to(device)\n",
        "\n",
        "    criterion = nn.CrossEntropyLoss()\n",
        "    optimizer = optim.SGD(net.parameters(), lr=config[\"lr\"], momentum=0.9)\n",
        "\n",
        "    checkpoint = get_checkpoint()\n",
        "    if checkpoint:\n",
        "        with checkpoint.as_directory() as checkpoint_dir:\n",
        "            data_path = Path(checkpoint_dir) / \"data.pkl\"\n",
        "            with open(data_path, \"rb\") as fp:\n",
        "                checkpoint_state = pickle.load(fp)\n",
        "            start_epoch = checkpoint_state[\"epoch\"]\n",
        "            net.load_state_dict(checkpoint_state[\"net_state_dict\"])\n",
        "            optimizer.load_state_dict(checkpoint_state[\"optimizer_state_dict\"])\n",
        "    else:\n",
        "        start_epoch = 0\n",
        "\n",
        "    trainset, testset = load_data(data_dir)\n",
        "\n",
        "    test_abs = int(len(trainset) * 0.8)\n",
        "    train_subset, val_subset = random_split(\n",
        "        trainset, [test_abs, len(trainset) - test_abs]\n",
        "    )\n",
        "\n",
        "    trainloader = torch.utils.data.DataLoader(\n",
        "        train_subset, batch_size=int(config[\"batch_size\"]), shuffle=True, num_workers=8\n",
        "    )\n",
        "    valloader = torch.utils.data.DataLoader(\n",
        "        val_subset, batch_size=int(config[\"batch_size\"]), shuffle=True, num_workers=8\n",
        "    )\n",
        "\n",
        "    for epoch in range(start_epoch, 10):  # loop over the dataset multiple times\n",
        "        running_loss = 0.0\n",
        "        epoch_steps = 0\n",
        "        for i, data in enumerate(trainloader, 0):\n",
        "            # get the inputs; data is a list of [inputs, labels]\n",
        "            inputs, labels = data\n",
        "            inputs, labels = inputs.to(device), labels.to(device)\n",
        "\n",
        "            # zero the parameter gradients\n",
        "            optimizer.zero_grad()\n",
        "\n",
        "            # forward + backward + optimize\n",
        "            outputs = net(inputs)\n",
        "            loss = criterion(outputs, labels)\n",
        "            loss.backward()\n",
        "            optimizer.step()\n",
        "\n",
        "            # print statistics\n",
        "            running_loss += loss.item()\n",
        "            epoch_steps += 1\n",
        "            if (i + 1) % 2000 == 0:  # print every 2000 mini-batches\n",
        "                print(\n",
        "                    \"[%d, %5d] loss: %.3f\"\n",
        "                    % (epoch + 1, i + 1, running_loss / epoch_steps)\n",
        "                )\n",
        "                running_loss = 0.0\n",
        "\n",
        "        # Validation loss\n",
        "        val_loss = 0.0\n",
        "        val_steps = 0\n",
        "        total = 0\n",
        "        correct = 0\n",
        "        for i, data in enumerate(valloader, 0):\n",
        "            with torch.no_grad():\n",
        "                inputs, labels = data\n",
        "                inputs, labels = inputs.to(device), labels.to(device)\n",
        "\n",
        "                outputs = net(inputs)\n",
        "                _, predicted = torch.max(outputs.data, 1)\n",
        "                total += labels.size(0)\n",
        "                correct += (predicted == labels).sum().item()\n",
        "\n",
        "                loss = criterion(outputs, labels)\n",
        "                val_loss += loss.cpu().numpy()\n",
        "                val_steps += 1\n",
        "\n",
        "        checkpoint_data = {\n",
        "            \"epoch\": epoch,\n",
        "            \"net_state_dict\": net.state_dict(),\n",
        "            \"optimizer_state_dict\": optimizer.state_dict(),\n",
        "        }\n",
        "        with tempfile.TemporaryDirectory() as checkpoint_dir:\n",
        "            data_path = Path(checkpoint_dir) / \"data.pkl\"\n",
        "            with open(data_path, \"wb\") as fp:\n",
        "                pickle.dump(checkpoint_data, fp)\n",
        "\n",
        "            checkpoint = Checkpoint.from_directory(checkpoint_dir)\n",
        "            train.report(\n",
        "                {\"loss\": val_loss / val_steps, \"accuracy\": correct / total},\n",
        "                checkpoint=checkpoint,\n",
        "            )\n",
        "\n",
        "    print(\"Finished Training\")"
      ]
    },
    {
      "cell_type": "markdown",
      "metadata": {
        "id": "9P0hCOQXUJse"
      },
      "source": [
        "As you can see, most of the code is adapted directly from the original\n",
        "example.\n",
        "\n",
        "Test set accuracy\n",
        "=================\n",
        "\n",
        "Commonly the performance of a machine learning model is tested on a\n",
        "hold-out test set with data that has not been used for training the\n",
        "model. We also wrap this in a function:\n"
      ]
    },
    {
      "cell_type": "code",
      "execution_count": 6,
      "metadata": {
        "id": "nd5mWUaLUJse"
      },
      "outputs": [],
      "source": [
        "def test_accuracy(net, device=\"cpu\"):\n",
        "    trainset, testset = load_data()\n",
        "\n",
        "    testloader = torch.utils.data.DataLoader(\n",
        "        testset, batch_size=4, shuffle=False, num_workers=2\n",
        "    )\n",
        "\n",
        "    correct = 0\n",
        "    total = 0\n",
        "    with torch.no_grad():\n",
        "        for data in testloader:\n",
        "            images, labels = data\n",
        "            images, labels = images.to(device), labels.to(device)\n",
        "            outputs = net(images)\n",
        "            _, predicted = torch.max(outputs.data, 1)\n",
        "            total += labels.size(0)\n",
        "            correct += (predicted == labels).sum().item()\n",
        "\n",
        "    return correct / total"
      ]
    },
    {
      "cell_type": "markdown",
      "metadata": {
        "id": "nYUhs2A2UJse"
      },
      "source": [
        "The function also expects a `device` parameter, so we can do the test\n",
        "set validation on a GPU.\n",
        "\n",
        "Configuring the search space\n",
        "============================\n",
        "\n",
        "Lastly, we need to define Ray Tune\\'s search space. Here is an example:\n",
        "\n",
        "``` {.python}\n",
        "config = {\n",
        "    \"l1\": tune.choice([2 ** i for i in range(9)]),\n",
        "    \"l2\": tune.choice([2 ** i for i in range(9)]),\n",
        "    \"lr\": tune.loguniform(1e-4, 1e-1),\n",
        "    \"batch_size\": tune.choice([2, 4, 8, 16])\n",
        "}\n",
        "```\n",
        "\n",
        "The `tune.choice()` accepts a list of values that are uniformly sampled\n",
        "from. In this example, the `l1` and `l2` parameters should be powers of\n",
        "2 between 4 and 256, so either 4, 8, 16, 32, 64, 128, or 256. The `lr`\n",
        "(learning rate) should be uniformly sampled between 0.0001 and 0.1.\n",
        "Lastly, the batch size is a choice between 2, 4, 8, and 16.\n",
        "\n",
        "At each trial, Ray Tune will now randomly sample a combination of\n",
        "parameters from these search spaces. It will then train a number of\n",
        "models in parallel and find the best performing one among these. We also\n",
        "use the `ASHAScheduler` which will terminate bad performing trials\n",
        "early.\n",
        "\n",
        "We wrap the `train_cifar` function with `functools.partial` to set the\n",
        "constant `data_dir` parameter. We can also tell Ray Tune what resources\n",
        "should be available for each trial:\n",
        "\n",
        "``` {.python}\n",
        "gpus_per_trial = 2\n",
        "# ...\n",
        "result = tune.run(\n",
        "    partial(train_cifar, data_dir=data_dir),\n",
        "    resources_per_trial={\"cpu\": 8, \"gpu\": gpus_per_trial},\n",
        "    config=config,\n",
        "    num_samples=num_samples,\n",
        "    scheduler=scheduler,\n",
        "    checkpoint_at_end=True)\n",
        "```\n",
        "\n",
        "You can specify the number of CPUs, which are then available e.g. to\n",
        "increase the `num_workers` of the PyTorch `DataLoader` instances. The\n",
        "selected number of GPUs are made visible to PyTorch in each trial.\n",
        "Trials do not have access to GPUs that haven\\'t been requested for them\n",
        "- so you don\\'t have to care about two trials using the same set of\n",
        "resources.\n",
        "\n",
        "Here we can also specify fractional GPUs, so something like\n",
        "`gpus_per_trial=0.5` is completely valid. The trials will then share\n",
        "GPUs among each other. You just have to make sure that the models still\n",
        "fit in the GPU memory.\n",
        "\n",
        "After training the models, we will find the best performing one and load\n",
        "the trained network from the checkpoint file. We then obtain the test\n",
        "set accuracy and report everything by printing.\n",
        "\n",
        "The full main function looks like this:\n"
      ]
    },
    {
      "cell_type": "code",
      "execution_count": 7,
      "metadata": {
        "id": "t5Z4PxdRUJse",
        "outputId": "f21df9ab-0f1e-4504-af99-9fcd782ef78d",
        "colab": {
          "base_uri": "https://localhost:8080/",
          "height": 1000
        }
      },
      "outputs": [
        {
          "output_type": "stream",
          "name": "stdout",
          "text": [
            "Downloading https://www.cs.toronto.edu/~kriz/cifar-10-python.tar.gz to /private/tmp/data/cifar-10-python.tar.gz\n"
          ]
        },
        {
          "output_type": "stream",
          "name": "stderr",
          "text": [
            "100%|██████████████████████████████████████████████████████████████████████████████████████████████████████████████████████████████████████████████████████████████████████████████████████████████████████| 170M/170M [01:28<00:00, 1.93MB/s]\n"
          ]
        },
        {
          "output_type": "stream",
          "name": "stdout",
          "text": [
            "Extracting /private/tmp/data/cifar-10-python.tar.gz to /private/tmp/data\n",
            "Files already downloaded and verified\n"
          ]
        },
        {
          "output_type": "stream",
          "name": "stderr",
          "text": [
            "2025-01-15 14:16:01,186\tINFO worker.py:1821 -- Started a local Ray instance.\n",
            "2025-01-15 14:16:01,615\tINFO tune.py:253 -- Initializing Ray automatically. For cluster usage or custom Ray initialization, call `ray.init(...)` before `tune.run(...)`.\n",
            "2025-01-15 14:16:01,616\tINFO tune.py:616 -- [output] This uses the legacy output and progress reporter, as Jupyter notebooks are not supported by the new engine, yet. For more information, please see https://github.com/ray-project/ray/issues/36949\n"
          ]
        },
        {
          "output_type": "display_data",
          "data": {
            "text/plain": [
              "<IPython.core.display.HTML object>"
            ],
            "text/html": [
              "<div class=\"tuneStatus\">\n",
              "  <div style=\"display: flex;flex-direction: row\">\n",
              "    <div style=\"display: flex;flex-direction: column;\">\n",
              "      <h3>Tune Status</h3>\n",
              "      <table>\n",
              "<tbody>\n",
              "<tr><td>Current time:</td><td>2025-01-15 14:53:07</td></tr>\n",
              "<tr><td>Running for: </td><td>00:37:05.60        </td></tr>\n",
              "<tr><td>Memory:      </td><td>9.0/16.0 GiB       </td></tr>\n",
              "</tbody>\n",
              "</table>\n",
              "    </div>\n",
              "    <div class=\"vDivider\"></div>\n",
              "    <div class=\"systemInfo\">\n",
              "      <h3>System Info</h3>\n",
              "      Using AsyncHyperBand: num_stopped=10<br>Bracket: Iter 8.000: -1.357447862625122 | Iter 4.000: -1.413088321685791 | Iter 2.000: -1.5156073570251465 | Iter 1.000: -1.9666848182678223<br>Logical resource usage: 2.0/8 CPUs, 0/0 GPUs\n",
              "    </div>\n",
              "    \n",
              "  </div>\n",
              "  <div class=\"hDivider\"></div>\n",
              "  <div class=\"trialStatus\">\n",
              "    <h3>Trial Status</h3>\n",
              "    <table>\n",
              "<thead>\n",
              "<tr><th>Trial name             </th><th>status    </th><th>loc            </th><th style=\"text-align: right;\">  batch_size</th><th style=\"text-align: right;\">  l1</th><th style=\"text-align: right;\">  l2</th><th style=\"text-align: right;\">         lr</th><th style=\"text-align: right;\">  iter</th><th style=\"text-align: right;\">  total time (s)</th><th style=\"text-align: right;\">   loss</th><th style=\"text-align: right;\">  accuracy</th></tr>\n",
              "</thead>\n",
              "<tbody>\n",
              "<tr><td>train_cifar_4dd2d_00000</td><td>TERMINATED</td><td>127.0.0.1:65961</td><td style=\"text-align: right;\">          16</td><td style=\"text-align: right;\">  16</td><td style=\"text-align: right;\">  32</td><td style=\"text-align: right;\">0.000191236</td><td style=\"text-align: right;\">    10</td><td style=\"text-align: right;\">        1171.66 </td><td style=\"text-align: right;\">1.52203</td><td style=\"text-align: right;\">    0.4592</td></tr>\n",
              "<tr><td>train_cifar_4dd2d_00001</td><td>TERMINATED</td><td>127.0.0.1:65959</td><td style=\"text-align: right;\">           2</td><td style=\"text-align: right;\">  64</td><td style=\"text-align: right;\"> 128</td><td style=\"text-align: right;\">0.00707955 </td><td style=\"text-align: right;\">     1</td><td style=\"text-align: right;\">         135.905</td><td style=\"text-align: right;\">2.1708 </td><td style=\"text-align: right;\">    0.1545</td></tr>\n",
              "<tr><td>train_cifar_4dd2d_00002</td><td>TERMINATED</td><td>127.0.0.1:65958</td><td style=\"text-align: right;\">           8</td><td style=\"text-align: right;\">  32</td><td style=\"text-align: right;\">  32</td><td style=\"text-align: right;\">0.00189575 </td><td style=\"text-align: right;\">    10</td><td style=\"text-align: right;\">        1209.03 </td><td style=\"text-align: right;\">1.14369</td><td style=\"text-align: right;\">    0.6098</td></tr>\n",
              "<tr><td>train_cifar_4dd2d_00003</td><td>TERMINATED</td><td>127.0.0.1:65960</td><td style=\"text-align: right;\">          16</td><td style=\"text-align: right;\">  16</td><td style=\"text-align: right;\"> 128</td><td style=\"text-align: right;\">0.0143868  </td><td style=\"text-align: right;\">     8</td><td style=\"text-align: right;\">         969.164</td><td style=\"text-align: right;\">1.60408</td><td style=\"text-align: right;\">    0.4448</td></tr>\n",
              "<tr><td>train_cifar_4dd2d_00004</td><td>TERMINATED</td><td>127.0.0.1:66245</td><td style=\"text-align: right;\">           4</td><td style=\"text-align: right;\">   1</td><td style=\"text-align: right;\">  32</td><td style=\"text-align: right;\">0.000288401</td><td style=\"text-align: right;\">     1</td><td style=\"text-align: right;\">         121.945</td><td style=\"text-align: right;\">1.97516</td><td style=\"text-align: right;\">    0.1796</td></tr>\n",
              "<tr><td>train_cifar_4dd2d_00005</td><td>TERMINATED</td><td>127.0.0.1:66472</td><td style=\"text-align: right;\">           4</td><td style=\"text-align: right;\">  64</td><td style=\"text-align: right;\">   2</td><td style=\"text-align: right;\">0.000472134</td><td style=\"text-align: right;\">     2</td><td style=\"text-align: right;\">         238.981</td><td style=\"text-align: right;\">1.71392</td><td style=\"text-align: right;\">    0.3229</td></tr>\n",
              "<tr><td>train_cifar_4dd2d_00006</td><td>TERMINATED</td><td>127.0.0.1:66905</td><td style=\"text-align: right;\">           4</td><td style=\"text-align: right;\"> 128</td><td style=\"text-align: right;\"> 256</td><td style=\"text-align: right;\">0.000860692</td><td style=\"text-align: right;\">    10</td><td style=\"text-align: right;\">        1174.64 </td><td style=\"text-align: right;\">1.18604</td><td style=\"text-align: right;\">    0.6183</td></tr>\n",
              "<tr><td>train_cifar_4dd2d_00007</td><td>TERMINATED</td><td>127.0.0.1:67742</td><td style=\"text-align: right;\">           8</td><td style=\"text-align: right;\">  16</td><td style=\"text-align: right;\">   1</td><td style=\"text-align: right;\">0.00424103 </td><td style=\"text-align: right;\">     1</td><td style=\"text-align: right;\">         120.289</td><td style=\"text-align: right;\">2.3043 </td><td style=\"text-align: right;\">    0.0989</td></tr>\n",
              "<tr><td>train_cifar_4dd2d_00008</td><td>TERMINATED</td><td>127.0.0.1:67964</td><td style=\"text-align: right;\">           4</td><td style=\"text-align: right;\">   4</td><td style=\"text-align: right;\">   8</td><td style=\"text-align: right;\">0.00144102 </td><td style=\"text-align: right;\">    10</td><td style=\"text-align: right;\">        1126.2  </td><td style=\"text-align: right;\">1.40334</td><td style=\"text-align: right;\">    0.4874</td></tr>\n",
              "<tr><td>train_cifar_4dd2d_00009</td><td>TERMINATED</td><td>127.0.0.1:68112</td><td style=\"text-align: right;\">          16</td><td style=\"text-align: right;\">   1</td><td style=\"text-align: right;\">  64</td><td style=\"text-align: right;\">0.000181638</td><td style=\"text-align: right;\">     1</td><td style=\"text-align: right;\">         114.932</td><td style=\"text-align: right;\">2.29717</td><td style=\"text-align: right;\">    0.1234</td></tr>\n",
              "</tbody>\n",
              "</table>\n",
              "  </div>\n",
              "</div>\n",
              "<style>\n",
              ".tuneStatus {\n",
              "  color: var(--jp-ui-font-color1);\n",
              "}\n",
              ".tuneStatus .systemInfo {\n",
              "  display: flex;\n",
              "  flex-direction: column;\n",
              "}\n",
              ".tuneStatus td {\n",
              "  white-space: nowrap;\n",
              "}\n",
              ".tuneStatus .trialStatus {\n",
              "  display: flex;\n",
              "  flex-direction: column;\n",
              "}\n",
              ".tuneStatus h3 {\n",
              "  font-weight: bold;\n",
              "}\n",
              ".tuneStatus .hDivider {\n",
              "  border-bottom-width: var(--jp-border-width);\n",
              "  border-bottom-color: var(--jp-border-color0);\n",
              "  border-bottom-style: solid;\n",
              "}\n",
              ".tuneStatus .vDivider {\n",
              "  border-left-width: var(--jp-border-width);\n",
              "  border-left-color: var(--jp-border-color0);\n",
              "  border-left-style: solid;\n",
              "  margin: 0.5em 1em 0.5em 1em;\n",
              "}\n",
              "</style>\n"
            ]
          },
          "metadata": {}
        },
        {
          "output_type": "stream",
          "name": "stdout",
          "text": [
            "\u001b[36m(func pid=65958)\u001b[0m Files already downloaded and verified\n",
            "\u001b[36m(func pid=65959)\u001b[0m [1,  2000] loss: 2.169\n",
            "\u001b[36m(func pid=65960)\u001b[0m Files already downloaded and verified\u001b[32m [repeated 7x across cluster] (Ray deduplicates logs by default. Set RAY_DEDUP_LOGS=0 to disable log deduplication, or see https://docs.ray.io/en/master/ray-observability/user-guides/configure-logging.html#log-deduplication for more options.)\u001b[0m\n",
            "\u001b[36m(func pid=65959)\u001b[0m [1,  6000] loss: 0.687\u001b[32m [repeated 3x across cluster]\u001b[0m\n",
            "\u001b[36m(func pid=65959)\u001b[0m [1, 10000] loss: 0.416\u001b[32m [repeated 5x across cluster]\u001b[0m\n"
          ]
        },
        {
          "output_type": "stream",
          "name": "stderr",
          "text": [
            "\u001b[36m(func pid=65961)\u001b[0m Checkpoint successfully created at: Checkpoint(filesystem=local, path=/Users/mohittalwar/ray_results/train_cifar_2025-01-15_14-16-01/train_cifar_4dd2d_00000_0_batch_size=16,l1=16,l2=32,lr=0.0002_2025-01-15_14-16-01/checkpoint_000000)\n"
          ]
        },
        {
          "output_type": "display_data",
          "data": {
            "text/plain": [
              "<IPython.core.display.HTML object>"
            ],
            "text/html": [
              "<div class=\"trialProgress\">\n",
              "  <h3>Trial Progress</h3>\n",
              "  <table>\n",
              "<thead>\n",
              "<tr><th>Trial name             </th><th style=\"text-align: right;\">  accuracy</th><th style=\"text-align: right;\">   loss</th><th>should_checkpoint  </th></tr>\n",
              "</thead>\n",
              "<tbody>\n",
              "<tr><td>train_cifar_4dd2d_00000</td><td style=\"text-align: right;\">    0.4592</td><td style=\"text-align: right;\">1.52203</td><td>True               </td></tr>\n",
              "<tr><td>train_cifar_4dd2d_00001</td><td style=\"text-align: right;\">    0.1545</td><td style=\"text-align: right;\">2.1708 </td><td>True               </td></tr>\n",
              "<tr><td>train_cifar_4dd2d_00002</td><td style=\"text-align: right;\">    0.6098</td><td style=\"text-align: right;\">1.14369</td><td>True               </td></tr>\n",
              "<tr><td>train_cifar_4dd2d_00003</td><td style=\"text-align: right;\">    0.4448</td><td style=\"text-align: right;\">1.60408</td><td>True               </td></tr>\n",
              "<tr><td>train_cifar_4dd2d_00004</td><td style=\"text-align: right;\">    0.1796</td><td style=\"text-align: right;\">1.97516</td><td>True               </td></tr>\n",
              "<tr><td>train_cifar_4dd2d_00005</td><td style=\"text-align: right;\">    0.3229</td><td style=\"text-align: right;\">1.71392</td><td>True               </td></tr>\n",
              "<tr><td>train_cifar_4dd2d_00006</td><td style=\"text-align: right;\">    0.6183</td><td style=\"text-align: right;\">1.18604</td><td>True               </td></tr>\n",
              "<tr><td>train_cifar_4dd2d_00007</td><td style=\"text-align: right;\">    0.0989</td><td style=\"text-align: right;\">2.3043 </td><td>True               </td></tr>\n",
              "<tr><td>train_cifar_4dd2d_00008</td><td style=\"text-align: right;\">    0.4874</td><td style=\"text-align: right;\">1.40334</td><td>True               </td></tr>\n",
              "<tr><td>train_cifar_4dd2d_00009</td><td style=\"text-align: right;\">    0.1234</td><td style=\"text-align: right;\">2.29717</td><td>True               </td></tr>\n",
              "</tbody>\n",
              "</table>\n",
              "</div>\n",
              "<style>\n",
              ".trialProgress {\n",
              "  display: flex;\n",
              "  flex-direction: column;\n",
              "  color: var(--jp-ui-font-color1);\n",
              "}\n",
              ".trialProgress h3 {\n",
              "  font-weight: bold;\n",
              "}\n",
              ".trialProgress td {\n",
              "  white-space: nowrap;\n",
              "}\n",
              "</style>\n"
            ]
          },
          "metadata": {}
        },
        {
          "output_type": "stream",
          "name": "stderr",
          "text": [
            "\u001b[36m(func pid=65959)\u001b[0m Checkpoint successfully created at: Checkpoint(filesystem=local, path=/Users/mohittalwar/ray_results/train_cifar_2025-01-15_14-16-01/train_cifar_4dd2d_00001_1_batch_size=2,l1=64,l2=128,lr=0.0071_2025-01-15_14-16-01/checkpoint_000000)\u001b[32m [repeated 3x across cluster]\u001b[0m\n"
          ]
        },
        {
          "output_type": "stream",
          "name": "stdout",
          "text": [
            "\u001b[36m(func pid=66245)\u001b[0m Files already downloaded and verified\n",
            "\u001b[36m(func pid=65959)\u001b[0m [1, 20000] loss: 0.222\u001b[32m [repeated 5x across cluster]\u001b[0m\n",
            "\u001b[36m(func pid=66245)\u001b[0m Files already downloaded and verified\n",
            "\u001b[36m(func pid=65958)\u001b[0m [2,  2000] loss: 1.465\n",
            "\u001b[36m(func pid=65961)\u001b[0m [2,  2000] loss: 2.299\n",
            "\u001b[36m(func pid=66245)\u001b[0m [1,  2000] loss: 2.309\u001b[32m [repeated 3x across cluster]\u001b[0m\n"
          ]
        },
        {
          "output_type": "stream",
          "name": "stderr",
          "text": [
            "\u001b[36m(func pid=65961)\u001b[0m Checkpoint successfully created at: Checkpoint(filesystem=local, path=/Users/mohittalwar/ray_results/train_cifar_2025-01-15_14-16-01/train_cifar_4dd2d_00000_0_batch_size=16,l1=16,l2=32,lr=0.0002_2025-01-15_14-16-01/checkpoint_000001)\n",
            "\u001b[36m(func pid=65960)\u001b[0m Checkpoint successfully created at: Checkpoint(filesystem=local, path=/Users/mohittalwar/ray_results/train_cifar_2025-01-15_14-16-01/train_cifar_4dd2d_00003_3_batch_size=16,l1=16,l2=128,lr=0.0144_2025-01-15_14-16-01/checkpoint_000001)\n",
            "\u001b[36m(func pid=66245)\u001b[0m Checkpoint successfully created at: Checkpoint(filesystem=local, path=/Users/mohittalwar/ray_results/train_cifar_2025-01-15_14-16-01/train_cifar_4dd2d_00004_4_batch_size=4,l1=1,l2=32,lr=0.0003_2025-01-15_14-16-01/checkpoint_000000)\u001b[32m [repeated 2x across cluster]\u001b[0m\n"
          ]
        },
        {
          "output_type": "stream",
          "name": "stdout",
          "text": [
            "\u001b[36m(func pid=66472)\u001b[0m Files already downloaded and verified\n",
            "\u001b[36m(func pid=66245)\u001b[0m [1, 10000] loss: 0.404\u001b[32m [repeated 4x across cluster]\u001b[0m\n",
            "\u001b[36m(func pid=66472)\u001b[0m Files already downloaded and verified\n",
            "\u001b[36m(func pid=65958)\u001b[0m [3,  2000] loss: 1.299\n",
            "\u001b[36m(func pid=65961)\u001b[0m [3,  2000] loss: 2.213\n",
            "\u001b[36m(func pid=65958)\u001b[0m [3,  4000] loss: 0.638\u001b[32m [repeated 2x across cluster]\u001b[0m\n",
            "\u001b[36m(func pid=66472)\u001b[0m [1,  2000] loss: 2.323\n",
            "\u001b[36m(func pid=66472)\u001b[0m [1,  4000] loss: 1.129\n",
            "\u001b[36m(func pid=66472)\u001b[0m [1,  6000] loss: 0.732\n",
            "\u001b[36m(func pid=66472)\u001b[0m [1,  8000] loss: 0.521\n",
            "\u001b[36m(func pid=66472)\u001b[0m [1, 10000] loss: 0.397\n"
          ]
        },
        {
          "output_type": "stream",
          "name": "stderr",
          "text": [
            "\u001b[36m(func pid=65961)\u001b[0m Checkpoint successfully created at: Checkpoint(filesystem=local, path=/Users/mohittalwar/ray_results/train_cifar_2025-01-15_14-16-01/train_cifar_4dd2d_00000_0_batch_size=16,l1=16,l2=32,lr=0.0002_2025-01-15_14-16-01/checkpoint_000002)\n",
            "\u001b[36m(func pid=65960)\u001b[0m Checkpoint successfully created at: Checkpoint(filesystem=local, path=/Users/mohittalwar/ray_results/train_cifar_2025-01-15_14-16-01/train_cifar_4dd2d_00003_3_batch_size=16,l1=16,l2=128,lr=0.0144_2025-01-15_14-16-01/checkpoint_000002)\n",
            "\u001b[36m(func pid=66472)\u001b[0m Checkpoint successfully created at: Checkpoint(filesystem=local, path=/Users/mohittalwar/ray_results/train_cifar_2025-01-15_14-16-01/train_cifar_4dd2d_00005_5_batch_size=4,l1=64,l2=2,lr=0.0005_2025-01-15_14-16-01/checkpoint_000000)\u001b[32m [repeated 2x across cluster]\u001b[0m\n"
          ]
        },
        {
          "output_type": "stream",
          "name": "stdout",
          "text": [
            "\u001b[36m(func pid=65961)\u001b[0m [4,  2000] loss: 1.920\n",
            "\u001b[36m(func pid=65958)\u001b[0m [4,  2000] loss: 1.203\n",
            "\u001b[36m(func pid=65958)\u001b[0m [4,  4000] loss: 0.609\u001b[32m [repeated 2x across cluster]\u001b[0m\n",
            "\u001b[36m(func pid=66472)\u001b[0m [2,  6000] loss: 0.600\u001b[32m [repeated 3x across cluster]\u001b[0m\n"
          ]
        },
        {
          "output_type": "stream",
          "name": "stderr",
          "text": [
            "\u001b[36m(func pid=65961)\u001b[0m Checkpoint successfully created at: Checkpoint(filesystem=local, path=/Users/mohittalwar/ray_results/train_cifar_2025-01-15_14-16-01/train_cifar_4dd2d_00000_0_batch_size=16,l1=16,l2=32,lr=0.0002_2025-01-15_14-16-01/checkpoint_000003)\n",
            "\u001b[36m(func pid=65960)\u001b[0m Checkpoint successfully created at: Checkpoint(filesystem=local, path=/Users/mohittalwar/ray_results/train_cifar_2025-01-15_14-16-01/train_cifar_4dd2d_00003_3_batch_size=16,l1=16,l2=128,lr=0.0144_2025-01-15_14-16-01/checkpoint_000003)\n",
            "\u001b[36m(func pid=66472)\u001b[0m Checkpoint successfully created at: Checkpoint(filesystem=local, path=/Users/mohittalwar/ray_results/train_cifar_2025-01-15_14-16-01/train_cifar_4dd2d_00005_5_batch_size=4,l1=64,l2=2,lr=0.0005_2025-01-15_14-16-01/checkpoint_000001)\u001b[32m [repeated 2x across cluster]\u001b[0m\n"
          ]
        },
        {
          "output_type": "stream",
          "name": "stdout",
          "text": [
            "\u001b[36m(func pid=66905)\u001b[0m Files already downloaded and verified\n",
            "\u001b[36m(func pid=66472)\u001b[0m [2, 10000] loss: 0.348\u001b[32m [repeated 2x across cluster]\u001b[0m\n",
            "\u001b[36m(func pid=66905)\u001b[0m Files already downloaded and verified\n",
            "\u001b[36m(func pid=65958)\u001b[0m [5,  2000] loss: 1.150\u001b[32m [repeated 2x across cluster]\u001b[0m\n",
            "\u001b[36m(func pid=66905)\u001b[0m [1,  2000] loss: 2.187\u001b[32m [repeated 3x across cluster]\u001b[0m\n"
          ]
        },
        {
          "output_type": "stream",
          "name": "stderr",
          "text": [
            "\u001b[36m(func pid=65961)\u001b[0m Checkpoint successfully created at: Checkpoint(filesystem=local, path=/Users/mohittalwar/ray_results/train_cifar_2025-01-15_14-16-01/train_cifar_4dd2d_00000_0_batch_size=16,l1=16,l2=32,lr=0.0002_2025-01-15_14-16-01/checkpoint_000004)\n",
            "\u001b[36m(func pid=65960)\u001b[0m Checkpoint successfully created at: Checkpoint(filesystem=local, path=/Users/mohittalwar/ray_results/train_cifar_2025-01-15_14-16-01/train_cifar_4dd2d_00003_3_batch_size=16,l1=16,l2=128,lr=0.0144_2025-01-15_14-16-01/checkpoint_000004)\n",
            "\u001b[36m(func pid=66905)\u001b[0m Checkpoint successfully created at: Checkpoint(filesystem=local, path=/Users/mohittalwar/ray_results/train_cifar_2025-01-15_14-16-01/train_cifar_4dd2d_00006_6_batch_size=4,l1=128,l2=256,lr=0.0009_2025-01-15_14-16-01/checkpoint_000000)\u001b[32m [repeated 2x across cluster]\u001b[0m\n"
          ]
        },
        {
          "output_type": "stream",
          "name": "stdout",
          "text": [
            "\u001b[36m(func pid=65961)\u001b[0m [6,  2000] loss: 1.709\u001b[32m [repeated 5x across cluster]\u001b[0m\n",
            "\u001b[36m(func pid=65958)\u001b[0m [6,  2000] loss: 1.127\n",
            "\u001b[36m(func pid=65960)\u001b[0m [6,  2000] loss: 1.514\n",
            "\u001b[36m(func pid=66905)\u001b[0m [2,  2000] loss: 1.438\u001b[32m [repeated 2x across cluster]\u001b[0m\n"
          ]
        },
        {
          "output_type": "stream",
          "name": "stderr",
          "text": [
            "\u001b[36m(func pid=65961)\u001b[0m Checkpoint successfully created at: Checkpoint(filesystem=local, path=/Users/mohittalwar/ray_results/train_cifar_2025-01-15_14-16-01/train_cifar_4dd2d_00000_0_batch_size=16,l1=16,l2=32,lr=0.0002_2025-01-15_14-16-01/checkpoint_000005)\n",
            "\u001b[36m(func pid=65960)\u001b[0m Checkpoint successfully created at: Checkpoint(filesystem=local, path=/Users/mohittalwar/ray_results/train_cifar_2025-01-15_14-16-01/train_cifar_4dd2d_00003_3_batch_size=16,l1=16,l2=128,lr=0.0144_2025-01-15_14-16-01/checkpoint_000005)\n"
          ]
        },
        {
          "output_type": "stream",
          "name": "stdout",
          "text": [
            "\u001b[36m(func pid=65961)\u001b[0m [7,  2000] loss: 1.656\u001b[32m [repeated 5x across cluster]\u001b[0m\n"
          ]
        },
        {
          "output_type": "stream",
          "name": "stderr",
          "text": [
            "\u001b[36m(func pid=66905)\u001b[0m Checkpoint successfully created at: Checkpoint(filesystem=local, path=/Users/mohittalwar/ray_results/train_cifar_2025-01-15_14-16-01/train_cifar_4dd2d_00006_6_batch_size=4,l1=128,l2=256,lr=0.0009_2025-01-15_14-16-01/checkpoint_000001)\u001b[32m [repeated 2x across cluster]\u001b[0m\n"
          ]
        },
        {
          "output_type": "stream",
          "name": "stdout",
          "text": [
            "\u001b[36m(func pid=65958)\u001b[0m [7,  2000] loss: 1.077\n",
            "\u001b[36m(func pid=65960)\u001b[0m [7,  2000] loss: 1.520\n",
            "\u001b[36m(func pid=66905)\u001b[0m [3,  2000] loss: 1.264\u001b[32m [repeated 2x across cluster]\u001b[0m\n",
            "\u001b[36m(func pid=66905)\u001b[0m [3, 10000] loss: 0.240\u001b[32m [repeated 4x across cluster]\u001b[0m\n"
          ]
        },
        {
          "output_type": "stream",
          "name": "stderr",
          "text": [
            "\u001b[36m(func pid=65961)\u001b[0m Checkpoint successfully created at: Checkpoint(filesystem=local, path=/Users/mohittalwar/ray_results/train_cifar_2025-01-15_14-16-01/train_cifar_4dd2d_00000_0_batch_size=16,l1=16,l2=32,lr=0.0002_2025-01-15_14-16-01/checkpoint_000006)\n"
          ]
        },
        {
          "output_type": "stream",
          "name": "stdout",
          "text": [
            "\u001b[36m(func pid=65961)\u001b[0m [8,  2000] loss: 1.609\n"
          ]
        },
        {
          "output_type": "stream",
          "name": "stderr",
          "text": [
            "\u001b[36m(func pid=65960)\u001b[0m Checkpoint successfully created at: Checkpoint(filesystem=local, path=/Users/mohittalwar/ray_results/train_cifar_2025-01-15_14-16-01/train_cifar_4dd2d_00003_3_batch_size=16,l1=16,l2=128,lr=0.0144_2025-01-15_14-16-01/checkpoint_000006)\n",
            "\u001b[36m(func pid=66905)\u001b[0m Checkpoint successfully created at: Checkpoint(filesystem=local, path=/Users/mohittalwar/ray_results/train_cifar_2025-01-15_14-16-01/train_cifar_4dd2d_00006_6_batch_size=4,l1=128,l2=256,lr=0.0009_2025-01-15_14-16-01/checkpoint_000002)\u001b[32m [repeated 2x across cluster]\u001b[0m\n"
          ]
        },
        {
          "output_type": "stream",
          "name": "stdout",
          "text": [
            "\u001b[36m(func pid=65960)\u001b[0m [8,  2000] loss: 1.535\n",
            "\u001b[36m(func pid=66905)\u001b[0m [4,  2000] loss: 1.142\u001b[32m [repeated 3x across cluster]\u001b[0m\n"
          ]
        },
        {
          "output_type": "stream",
          "name": "stderr",
          "text": [
            "\u001b[36m(func pid=65961)\u001b[0m Checkpoint successfully created at: Checkpoint(filesystem=local, path=/Users/mohittalwar/ray_results/train_cifar_2025-01-15_14-16-01/train_cifar_4dd2d_00000_0_batch_size=16,l1=16,l2=32,lr=0.0002_2025-01-15_14-16-01/checkpoint_000007)\n"
          ]
        },
        {
          "output_type": "stream",
          "name": "stdout",
          "text": [
            "\u001b[36m(func pid=65961)\u001b[0m [9,  2000] loss: 1.566\u001b[32m [repeated 5x across cluster]\u001b[0m\n"
          ]
        },
        {
          "output_type": "stream",
          "name": "stderr",
          "text": [
            "\u001b[36m(func pid=65960)\u001b[0m Checkpoint successfully created at: Checkpoint(filesystem=local, path=/Users/mohittalwar/ray_results/train_cifar_2025-01-15_14-16-01/train_cifar_4dd2d_00003_3_batch_size=16,l1=16,l2=128,lr=0.0144_2025-01-15_14-16-01/checkpoint_000007)\n"
          ]
        },
        {
          "output_type": "stream",
          "name": "stdout",
          "text": [
            "\u001b[36m(func pid=67742)\u001b[0m Files already downloaded and verified\n",
            "\u001b[36m(func pid=67742)\u001b[0m Files already downloaded and verified\n"
          ]
        },
        {
          "output_type": "stream",
          "name": "stderr",
          "text": [
            "\u001b[36m(func pid=66905)\u001b[0m Checkpoint successfully created at: Checkpoint(filesystem=local, path=/Users/mohittalwar/ray_results/train_cifar_2025-01-15_14-16-01/train_cifar_4dd2d_00006_6_batch_size=4,l1=128,l2=256,lr=0.0009_2025-01-15_14-16-01/checkpoint_000003)\u001b[32m [repeated 2x across cluster]\u001b[0m\n"
          ]
        },
        {
          "output_type": "stream",
          "name": "stdout",
          "text": [
            "\u001b[36m(func pid=65958)\u001b[0m [9,  2000] loss: 1.026\n",
            "\u001b[36m(func pid=66905)\u001b[0m [5,  2000] loss: 1.050\u001b[32m [repeated 4x across cluster]\u001b[0m\n"
          ]
        },
        {
          "output_type": "stream",
          "name": "stderr",
          "text": [
            "\u001b[36m(func pid=65961)\u001b[0m Checkpoint successfully created at: Checkpoint(filesystem=local, path=/Users/mohittalwar/ray_results/train_cifar_2025-01-15_14-16-01/train_cifar_4dd2d_00000_0_batch_size=16,l1=16,l2=32,lr=0.0002_2025-01-15_14-16-01/checkpoint_000008)\n"
          ]
        },
        {
          "output_type": "stream",
          "name": "stdout",
          "text": [
            "\u001b[36m(func pid=65961)\u001b[0m [10,  2000] loss: 1.526\u001b[32m [repeated 5x across cluster]\u001b[0m\n"
          ]
        },
        {
          "output_type": "stream",
          "name": "stderr",
          "text": [
            "\u001b[36m(func pid=65958)\u001b[0m Checkpoint successfully created at: Checkpoint(filesystem=local, path=/Users/mohittalwar/ray_results/train_cifar_2025-01-15_14-16-01/train_cifar_4dd2d_00002_2_batch_size=8,l1=32,l2=32,lr=0.0019_2025-01-15_14-16-01/checkpoint_000008)\n"
          ]
        },
        {
          "output_type": "stream",
          "name": "stdout",
          "text": [
            "\u001b[36m(func pid=67964)\u001b[0m Files already downloaded and verified\n",
            "\u001b[36m(func pid=67964)\u001b[0m Files already downloaded and verified\n"
          ]
        },
        {
          "output_type": "stream",
          "name": "stderr",
          "text": [
            "\u001b[36m(func pid=66905)\u001b[0m Checkpoint successfully created at: Checkpoint(filesystem=local, path=/Users/mohittalwar/ray_results/train_cifar_2025-01-15_14-16-01/train_cifar_4dd2d_00006_6_batch_size=4,l1=128,l2=256,lr=0.0009_2025-01-15_14-16-01/checkpoint_000004)\u001b[32m [repeated 2x across cluster]\u001b[0m\n"
          ]
        },
        {
          "output_type": "stream",
          "name": "stdout",
          "text": [
            "\u001b[36m(func pid=65958)\u001b[0m [10,  2000] loss: 1.014\n",
            "\u001b[36m(func pid=65958)\u001b[0m [10,  4000] loss: 0.521\n",
            "\u001b[36m(func pid=67964)\u001b[0m [1,  4000] loss: 0.984\u001b[32m [repeated 2x across cluster]\u001b[0m\n",
            "\u001b[36m(func pid=66905)\u001b[0m [6,  4000] loss: 0.496\u001b[32m [repeated 4x across cluster]\u001b[0m\n",
            "\u001b[36m(func pid=66905)\u001b[0m [6, 10000] loss: 0.201\u001b[32m [repeated 4x across cluster]\u001b[0m\n"
          ]
        },
        {
          "output_type": "stream",
          "name": "stderr",
          "text": [
            "\u001b[36m(func pid=65961)\u001b[0m Checkpoint successfully created at: Checkpoint(filesystem=local, path=/Users/mohittalwar/ray_results/train_cifar_2025-01-15_14-16-01/train_cifar_4dd2d_00000_0_batch_size=16,l1=16,l2=32,lr=0.0002_2025-01-15_14-16-01/checkpoint_000009)\n"
          ]
        },
        {
          "output_type": "stream",
          "name": "stdout",
          "text": [
            "\u001b[36m(func pid=68112)\u001b[0m Files already downloaded and verified\n",
            "\u001b[36m(func pid=68112)\u001b[0m Files already downloaded and verified\n",
            "\u001b[36m(func pid=68112)\u001b[0m [1,  2000] loss: 2.306\n"
          ]
        },
        {
          "output_type": "stream",
          "name": "stderr",
          "text": [
            "\u001b[36m(func pid=65958)\u001b[0m Checkpoint successfully created at: Checkpoint(filesystem=local, path=/Users/mohittalwar/ray_results/train_cifar_2025-01-15_14-16-01/train_cifar_4dd2d_00002_2_batch_size=8,l1=32,l2=32,lr=0.0019_2025-01-15_14-16-01/checkpoint_000009)\n",
            "\u001b[36m(func pid=67964)\u001b[0m Checkpoint successfully created at: Checkpoint(filesystem=local, path=/Users/mohittalwar/ray_results/train_cifar_2025-01-15_14-16-01/train_cifar_4dd2d_00008_8_batch_size=4,l1=4,l2=8,lr=0.0014_2025-01-15_14-16-01/checkpoint_000000)\n",
            "\u001b[36m(func pid=66905)\u001b[0m Checkpoint successfully created at: Checkpoint(filesystem=local, path=/Users/mohittalwar/ray_results/train_cifar_2025-01-15_14-16-01/train_cifar_4dd2d_00006_6_batch_size=4,l1=128,l2=256,lr=0.0009_2025-01-15_14-16-01/checkpoint_000005)\n"
          ]
        },
        {
          "output_type": "stream",
          "name": "stdout",
          "text": [
            "\u001b[36m(func pid=67964)\u001b[0m [2,  2000] loss: 1.593\n",
            "\u001b[36m(func pid=67964)\u001b[0m [2,  4000] loss: 0.784\n",
            "\u001b[36m(func pid=67964)\u001b[0m [2,  6000] loss: 0.524\n",
            "\u001b[36m(func pid=67964)\u001b[0m [2,  8000] loss: 0.389\n",
            "\u001b[36m(func pid=67964)\u001b[0m [2, 10000] loss: 0.305\u001b[32m [repeated 2x across cluster]\u001b[0m\n"
          ]
        },
        {
          "output_type": "stream",
          "name": "stderr",
          "text": [
            "\u001b[36m(func pid=68112)\u001b[0m Checkpoint successfully created at: Checkpoint(filesystem=local, path=/Users/mohittalwar/ray_results/train_cifar_2025-01-15_14-16-01/train_cifar_4dd2d_00009_9_batch_size=16,l1=1,l2=64,lr=0.0002_2025-01-15_14-16-01/checkpoint_000000)\n",
            "\u001b[36m(func pid=67964)\u001b[0m Checkpoint successfully created at: Checkpoint(filesystem=local, path=/Users/mohittalwar/ray_results/train_cifar_2025-01-15_14-16-01/train_cifar_4dd2d_00008_8_batch_size=4,l1=4,l2=8,lr=0.0014_2025-01-15_14-16-01/checkpoint_000001)\n",
            "\u001b[36m(func pid=66905)\u001b[0m Checkpoint successfully created at: Checkpoint(filesystem=local, path=/Users/mohittalwar/ray_results/train_cifar_2025-01-15_14-16-01/train_cifar_4dd2d_00006_6_batch_size=4,l1=128,l2=256,lr=0.0009_2025-01-15_14-16-01/checkpoint_000006)\n"
          ]
        },
        {
          "output_type": "stream",
          "name": "stdout",
          "text": [
            "\u001b[36m(func pid=67964)\u001b[0m [3,  2000] loss: 1.514\u001b[32m [repeated 5x across cluster]\u001b[0m\n",
            "\u001b[36m(func pid=66905)\u001b[0m [8,  2000] loss: 0.826\u001b[32m [repeated 5x across cluster]\u001b[0m\n"
          ]
        },
        {
          "output_type": "stream",
          "name": "stderr",
          "text": [
            "\u001b[36m(func pid=67964)\u001b[0m Checkpoint successfully created at: Checkpoint(filesystem=local, path=/Users/mohittalwar/ray_results/train_cifar_2025-01-15_14-16-01/train_cifar_4dd2d_00008_8_batch_size=4,l1=4,l2=8,lr=0.0014_2025-01-15_14-16-01/checkpoint_000002)\n",
            "\u001b[36m(func pid=66905)\u001b[0m Checkpoint successfully created at: Checkpoint(filesystem=local, path=/Users/mohittalwar/ray_results/train_cifar_2025-01-15_14-16-01/train_cifar_4dd2d_00006_6_batch_size=4,l1=128,l2=256,lr=0.0009_2025-01-15_14-16-01/checkpoint_000007)\n"
          ]
        },
        {
          "output_type": "stream",
          "name": "stdout",
          "text": [
            "\u001b[36m(func pid=67964)\u001b[0m [4,  2000] loss: 1.470\u001b[32m [repeated 5x across cluster]\u001b[0m\n",
            "\u001b[36m(func pid=66905)\u001b[0m [9,  2000] loss: 0.765\u001b[32m [repeated 5x across cluster]\u001b[0m\n"
          ]
        },
        {
          "output_type": "stream",
          "name": "stderr",
          "text": [
            "\u001b[36m(func pid=67964)\u001b[0m Checkpoint successfully created at: Checkpoint(filesystem=local, path=/Users/mohittalwar/ray_results/train_cifar_2025-01-15_14-16-01/train_cifar_4dd2d_00008_8_batch_size=4,l1=4,l2=8,lr=0.0014_2025-01-15_14-16-01/checkpoint_000003)\n",
            "\u001b[36m(func pid=66905)\u001b[0m Checkpoint successfully created at: Checkpoint(filesystem=local, path=/Users/mohittalwar/ray_results/train_cifar_2025-01-15_14-16-01/train_cifar_4dd2d_00006_6_batch_size=4,l1=128,l2=256,lr=0.0009_2025-01-15_14-16-01/checkpoint_000008)\n"
          ]
        },
        {
          "output_type": "stream",
          "name": "stdout",
          "text": [
            "\u001b[36m(func pid=67964)\u001b[0m [5,  2000] loss: 1.443\u001b[32m [repeated 5x across cluster]\u001b[0m\n",
            "\u001b[36m(func pid=66905)\u001b[0m [10,  2000] loss: 0.734\u001b[32m [repeated 5x across cluster]\u001b[0m\n"
          ]
        },
        {
          "output_type": "stream",
          "name": "stderr",
          "text": [
            "\u001b[36m(func pid=67964)\u001b[0m Checkpoint successfully created at: Checkpoint(filesystem=local, path=/Users/mohittalwar/ray_results/train_cifar_2025-01-15_14-16-01/train_cifar_4dd2d_00008_8_batch_size=4,l1=4,l2=8,lr=0.0014_2025-01-15_14-16-01/checkpoint_000004)\n",
            "\u001b[36m(func pid=66905)\u001b[0m Checkpoint successfully created at: Checkpoint(filesystem=local, path=/Users/mohittalwar/ray_results/train_cifar_2025-01-15_14-16-01/train_cifar_4dd2d_00006_6_batch_size=4,l1=128,l2=256,lr=0.0009_2025-01-15_14-16-01/checkpoint_000009)\n"
          ]
        },
        {
          "output_type": "stream",
          "name": "stdout",
          "text": [
            "\u001b[36m(func pid=67964)\u001b[0m [6,  2000] loss: 1.406\u001b[32m [repeated 5x across cluster]\u001b[0m\n",
            "\u001b[36m(func pid=67964)\u001b[0m [6,  8000] loss: 0.350\u001b[32m [repeated 3x across cluster]\u001b[0m\n"
          ]
        },
        {
          "output_type": "stream",
          "name": "stderr",
          "text": [
            "\u001b[36m(func pid=67964)\u001b[0m Checkpoint successfully created at: Checkpoint(filesystem=local, path=/Users/mohittalwar/ray_results/train_cifar_2025-01-15_14-16-01/train_cifar_4dd2d_00008_8_batch_size=4,l1=4,l2=8,lr=0.0014_2025-01-15_14-16-01/checkpoint_000005)\n"
          ]
        },
        {
          "output_type": "stream",
          "name": "stdout",
          "text": [
            "\u001b[36m(func pid=67964)\u001b[0m [7,  2000] loss: 1.423\u001b[32m [repeated 2x across cluster]\u001b[0m\n"
          ]
        },
        {
          "output_type": "stream",
          "name": "stderr",
          "text": [
            "\u001b[36m(func pid=67964)\u001b[0m Checkpoint successfully created at: Checkpoint(filesystem=local, path=/Users/mohittalwar/ray_results/train_cifar_2025-01-15_14-16-01/train_cifar_4dd2d_00008_8_batch_size=4,l1=4,l2=8,lr=0.0014_2025-01-15_14-16-01/checkpoint_000006)\n"
          ]
        },
        {
          "output_type": "stream",
          "name": "stdout",
          "text": [
            "\u001b[36m(func pid=67964)\u001b[0m [8,  2000] loss: 1.408\u001b[32m [repeated 5x across cluster]\u001b[0m\n"
          ]
        },
        {
          "output_type": "stream",
          "name": "stderr",
          "text": [
            "\u001b[36m(func pid=67964)\u001b[0m Checkpoint successfully created at: Checkpoint(filesystem=local, path=/Users/mohittalwar/ray_results/train_cifar_2025-01-15_14-16-01/train_cifar_4dd2d_00008_8_batch_size=4,l1=4,l2=8,lr=0.0014_2025-01-15_14-16-01/checkpoint_000007)\n"
          ]
        },
        {
          "output_type": "stream",
          "name": "stdout",
          "text": [
            "\u001b[36m(func pid=67964)\u001b[0m [9,  2000] loss: 1.357\u001b[32m [repeated 5x across cluster]\u001b[0m\n"
          ]
        },
        {
          "output_type": "stream",
          "name": "stderr",
          "text": [
            "\u001b[36m(func pid=67964)\u001b[0m Checkpoint successfully created at: Checkpoint(filesystem=local, path=/Users/mohittalwar/ray_results/train_cifar_2025-01-15_14-16-01/train_cifar_4dd2d_00008_8_batch_size=4,l1=4,l2=8,lr=0.0014_2025-01-15_14-16-01/checkpoint_000008)\n"
          ]
        },
        {
          "output_type": "stream",
          "name": "stdout",
          "text": [
            "\u001b[36m(func pid=67964)\u001b[0m [10,  2000] loss: 1.356\u001b[32m [repeated 5x across cluster]\u001b[0m\n"
          ]
        },
        {
          "output_type": "stream",
          "name": "stderr",
          "text": [
            "\u001b[36m(func pid=67964)\u001b[0m Checkpoint successfully created at: Checkpoint(filesystem=local, path=/Users/mohittalwar/ray_results/train_cifar_2025-01-15_14-16-01/train_cifar_4dd2d_00008_8_batch_size=4,l1=4,l2=8,lr=0.0014_2025-01-15_14-16-01/checkpoint_000009)\n",
            "2025-01-15 14:53:07,230\tINFO tune.py:1009 -- Wrote the latest version of all result files and experiment state to '/Users/mohittalwar/ray_results/train_cifar_2025-01-15_14-16-01' in 0.0104s.\n",
            "2025-01-15 14:53:07,238\tINFO tune.py:1041 -- Total run time: 2225.62 seconds (2225.59 seconds for the tuning loop).\n"
          ]
        },
        {
          "output_type": "stream",
          "name": "stdout",
          "text": [
            "Best trial config: {'l1': 32, 'l2': 32, 'lr': 0.0018957502226645082, 'batch_size': 8}\n",
            "Best trial final validation loss: 1.1436855792999268\n",
            "Best trial final validation accuracy: 0.6098\n",
            "Files already downloaded and verified\n",
            "Files already downloaded and verified\n",
            "Best trial test set accuracy: 0.606\n"
          ]
        }
      ],
      "source": [
        "def main(num_samples=10, max_num_epochs=10, gpus_per_trial=2):\n",
        "    data_dir = os.path.abspath(\"./data\")\n",
        "    load_data(data_dir)\n",
        "    config = {\n",
        "        \"l1\": tune.choice([2**i for i in range(9)]),\n",
        "        \"l2\": tune.choice([2**i for i in range(9)]),\n",
        "        \"lr\": tune.loguniform(1e-4, 1e-1),\n",
        "        \"batch_size\": tune.choice([2, 4, 8, 16]),\n",
        "    }\n",
        "    scheduler = ASHAScheduler(\n",
        "        metric=\"loss\",\n",
        "        mode=\"min\",\n",
        "        max_t=max_num_epochs,\n",
        "        grace_period=1,\n",
        "        reduction_factor=2,\n",
        "    )\n",
        "    result = tune.run(\n",
        "        partial(train_cifar, data_dir=data_dir),\n",
        "        resources_per_trial={\"cpu\": 2, \"gpu\": gpus_per_trial},\n",
        "        config=config,\n",
        "        num_samples=num_samples,\n",
        "        scheduler=scheduler,\n",
        "    )\n",
        "\n",
        "    best_trial = result.get_best_trial(\"loss\", \"min\", \"last\")\n",
        "    print(f\"Best trial config: {best_trial.config}\")\n",
        "    print(f\"Best trial final validation loss: {best_trial.last_result['loss']}\")\n",
        "    print(f\"Best trial final validation accuracy: {best_trial.last_result['accuracy']}\")\n",
        "\n",
        "    best_trained_model = Net(best_trial.config[\"l1\"], best_trial.config[\"l2\"])\n",
        "    device = \"cpu\"\n",
        "    if torch.cuda.is_available():\n",
        "        device = \"cuda:0\"\n",
        "        if gpus_per_trial > 1:\n",
        "            best_trained_model = nn.DataParallel(best_trained_model)\n",
        "    best_trained_model.to(device)\n",
        "\n",
        "    best_checkpoint = result.get_best_checkpoint(trial=best_trial, metric=\"accuracy\", mode=\"max\")\n",
        "    with best_checkpoint.as_directory() as checkpoint_dir:\n",
        "        data_path = Path(checkpoint_dir) / \"data.pkl\"\n",
        "        with open(data_path, \"rb\") as fp:\n",
        "            best_checkpoint_data = pickle.load(fp)\n",
        "\n",
        "        best_trained_model.load_state_dict(best_checkpoint_data[\"net_state_dict\"])\n",
        "        test_acc = test_accuracy(best_trained_model, device)\n",
        "        print(\"Best trial test set accuracy: {}\".format(test_acc))\n",
        "\n",
        "\n",
        "if __name__ == \"__main__\":\n",
        "    # You can change the number of GPUs per trial here:\n",
        "    main(num_samples=10, max_num_epochs=10, gpus_per_trial=0)"
      ]
    },
    {
      "cell_type": "markdown",
      "metadata": {
        "id": "Xx1Tx3Y5UJsf"
      },
      "source": [
        "If you run the code, an example output could look like this:\n",
        "\n",
        "``` {.sh}\n",
        "Number of trials: 10/10 (10 TERMINATED)\n",
        "+-----+--------------+------+------+-------------+--------+---------+------------+\n",
        "| ... |   batch_size |   l1 |   l2 |          lr |   iter |    loss |   accuracy |\n",
        "|-----+--------------+------+------+-------------+--------+---------+------------|\n",
        "| ... |            2 |    1 |  256 | 0.000668163 |      1 | 2.31479 |     0.0977 |\n",
        "| ... |            4 |   64 |    8 | 0.0331514   |      1 | 2.31605 |     0.0983 |\n",
        "| ... |            4 |    2 |    1 | 0.000150295 |      1 | 2.30755 |     0.1023 |\n",
        "| ... |           16 |   32 |   32 | 0.0128248   |     10 | 1.66912 |     0.4391 |\n",
        "| ... |            4 |    8 |  128 | 0.00464561  |      2 | 1.7316  |     0.3463 |\n",
        "| ... |            8 |  256 |    8 | 0.00031556  |      1 | 2.19409 |     0.1736 |\n",
        "| ... |            4 |   16 |  256 | 0.00574329  |      2 | 1.85679 |     0.3368 |\n",
        "| ... |            8 |    2 |    2 | 0.00325652  |      1 | 2.30272 |     0.0984 |\n",
        "| ... |            2 |    2 |    2 | 0.000342987 |      2 | 1.76044 |     0.292  |\n",
        "| ... |            4 |   64 |   32 | 0.003734    |      8 | 1.53101 |     0.4761 |\n",
        "+-----+--------------+------+------+-------------+--------+---------+------------+\n",
        "\n",
        "Best trial config: {'l1': 64, 'l2': 32, 'lr': 0.0037339984519545164, 'batch_size': 4}\n",
        "Best trial final validation loss: 1.5310075663924216\n",
        "Best trial final validation accuracy: 0.4761\n",
        "Best trial test set accuracy: 0.4737\n",
        "```\n",
        "\n",
        "Most trials have been stopped early in order to avoid wasting resources.\n",
        "The best performing trial achieved a validation accuracy of about 47%,\n",
        "which could be confirmed on the test set.\n",
        "\n",
        "So that\\'s it! You can now tune the parameters of your PyTorch models.\n"
      ]
    }
  ],
  "metadata": {
    "kernelspec": {
      "display_name": "Python 3",
      "language": "python",
      "name": "python3"
    },
    "language_info": {
      "codemirror_mode": {
        "name": "ipython",
        "version": 3
      },
      "file_extension": ".py",
      "mimetype": "text/x-python",
      "name": "python",
      "nbconvert_exporter": "python",
      "pygments_lexer": "ipython3",
      "version": "3.10.12"
    },
    "colab": {
      "provenance": [],
      "include_colab_link": true
    }
  },
  "nbformat": 4,
  "nbformat_minor": 0
}